{
  "nbformat": 4,
  "nbformat_minor": 0,
  "metadata": {
    "colab": {
      "provenance": [],
      "authorship_tag": "ABX9TyMKDs7rh5Ms1Mquv8bzgYSf",
      "include_colab_link": true
    },
    "kernelspec": {
      "name": "python3",
      "display_name": "Python 3"
    },
    "language_info": {
      "name": "python"
    }
  },
  "cells": [
    {
      "cell_type": "markdown",
      "metadata": {
        "id": "view-in-github",
        "colab_type": "text"
      },
      "source": [
        "<a href=\"https://colab.research.google.com/github/DhanushSundharam/Deep-Learning-Brain-tumor/blob/main/Brain_tumor_detection.ipynb\" target=\"_parent\"><img src=\"https://colab.research.google.com/assets/colab-badge.svg\" alt=\"Open In Colab\"/></a>"
      ]
    },
    {
      "cell_type": "code",
      "source": [
        "import tensorflow as tf\n",
        "from tensorflow.keras.preprocessing import image\n",
        "import numpy as np\n",
        "\n",
        "# Function to load and preprocess the image\n",
        "def load_and_preprocess_image(image_path, target_size=(240, 240)):\n",
        "    img = image.load_img(image_path, target_size=target_size)\n",
        "    img_array = image.img_to_array(img)\n",
        "    img_array = np.expand_dims(img_array, axis=0)\n",
        "    img_array /= 255.0  # Normalize pixel values to [0, 1]\n",
        "    return img_array\n",
        "\n",
        "# Load the pre-trained model\n",
        "model = tf.keras.models.load_model('/content/brain_tumor_detector.h5')\n",
        "\n",
        "# Specify the path to your test image\n",
        "test_image_path = '/content/a-Original-MRI-brain-tumor-image-b-Colored-MRI-image.png'\n",
        "\n",
        "# Load and preprocess the test image\n",
        "test_image = load_and_preprocess_image(test_image_path, target_size=(240, 240))\n",
        "\n",
        "# Make predictions\n",
        "predictions = model.predict(test_image)\n",
        "\n",
        "# Assuming it's a binary classification (0: No tumor, 1: Tumor)\n",
        "predicted_class = \"Tumor\" if predictions[0][0] > 0.5 else \"No Tumor\"\n",
        "\n",
        "# Print the predicted class\n",
        "print(f\"The model predicts: {predicted_class} (Probability: {predictions[0][0]:.4f})\")\n"
      ],
      "metadata": {
        "colab": {
          "base_uri": "https://localhost:8080/"
        },
        "id": "uTb6xXOnVufW",
        "outputId": "b0563cd6-f37e-4094-cdb9-cab23bd164aa"
      },
      "execution_count": 13,
      "outputs": [
        {
          "output_type": "stream",
          "name": "stderr",
          "text": [
            "WARNING:tensorflow:5 out of the last 5 calls to <function Model.make_predict_function.<locals>.predict_function at 0x7e11da73c550> triggered tf.function retracing. Tracing is expensive and the excessive number of tracings could be due to (1) creating @tf.function repeatedly in a loop, (2) passing tensors with different shapes, (3) passing Python objects instead of tensors. For (1), please define your @tf.function outside of the loop. For (2), @tf.function has reduce_retracing=True option that can avoid unnecessary retracing. For (3), please refer to https://www.tensorflow.org/guide/function#controlling_retracing and https://www.tensorflow.org/api_docs/python/tf/function for  more details.\n"
          ]
        },
        {
          "output_type": "stream",
          "name": "stdout",
          "text": [
            "1/1 [==============================] - 0s 113ms/step\n",
            "The model predicts: No Tumor (Probability: 0.3207)\n"
          ]
        }
      ]
    }
  ]
}